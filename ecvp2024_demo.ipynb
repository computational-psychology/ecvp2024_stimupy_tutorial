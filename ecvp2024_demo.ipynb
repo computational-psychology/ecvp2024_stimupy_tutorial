{
 "cells": [
  {
   "cell_type": "markdown",
   "id": "b4bfd4f6",
   "metadata": {
    "slideshow": {
     "slide_type": "skip"
    }
   },
   "source": [
    "# ECVP 2024 - Demo night"
   ]
  },
  {
   "cell_type": "markdown",
   "id": "35a2fc0d",
   "metadata": {
    "slideshow": {
     "slide_type": "skip"
    }
   },
   "source": [
    "## Overview"
   ]
  },
  {
   "cell_type": "code",
   "execution_count": null,
   "id": "9274b64c",
   "metadata": {
    "slideshow": {
     "slide_type": "skip"
    }
   },
   "outputs": [],
   "source": [
    "import warnings\n",
    "from stimupy.stimuli import plot_overview\n",
    "\n",
    "warnings.filterwarnings('ignore') # Turn off warnings during overview\n",
    "plot_overview()"
   ]
  },
  {
   "cell_type": "markdown",
   "id": "d59bb388",
   "metadata": {},
   "source": [
    "## SBC"
   ]
  },
  {
   "cell_type": "code",
   "execution_count": null,
   "id": "7c591ed5",
   "metadata": {},
   "outputs": [],
   "source": [
    "from stimupy.stimuli.sbcs import basic_two_sided\n",
    "from stimupy.utils import plot_stimuli, permutate_params, create_stimspace_stimuli\n",
    "\n",
    "# Define parameters\n",
    "params = {\n",
    "    \"visual_size\": [(5, 5)],\n",
    "    \"ppd\": [100],\n",
    "    \"target_size\": [0.5, 1, 2],             # vary target size\n",
    "    \"intensity_target\": [0.25, 0.5, 0.75],  # vary target intensity\n",
    "    \"intensity_background\": [[0, 1]],\n",
    "    \n",
    "}\n",
    "\n",
    "# Create list of dicts with permutated parameters\n",
    "paramsDict = permutate_params(params=params)\n",
    "\n",
    "# Create all stim-space stimuli\n",
    "stimSpace = create_stimspace_stimuli(\n",
    "    stimulus_function=basic_two_sided,\n",
    "    permutations_dicts=paramsDict,\n",
    ")\n",
    "\n",
    "# Display all\n",
    "plot_stimuli(stimSpace, units=\"deg\")"
   ]
  },
  {
   "cell_type": "markdown",
   "id": "96e4679f",
   "metadata": {},
   "source": [
    "## SBC circular"
   ]
  },
  {
   "cell_type": "code",
   "execution_count": null,
   "id": "22c3dbd2",
   "metadata": {},
   "outputs": [],
   "source": [
    "from stimupy.stimuli.sbcs import circular_two_sided\n",
    "from stimupy.utils import plot_stimuli, permutate_params, create_stimspace_stimuli\n",
    "\n",
    "# Define parameters\n",
    "params = {\n",
    "    \"visual_size\": [(5, 5)],\n",
    "    \"ppd\": [100],\n",
    "    \"target_radius\": [0.25, .5, 1],         # vary target size\n",
    "    \"surround_radius\": [1.25],\n",
    "    \"intensity_target\": [0.25, 0.5, 0.75],  # vary target intensity\n",
    "    \"intensity_background\": [0.5],\n",
    "    \"intensity_surround\": [[0, 1]],\n",
    "    \n",
    "}\n",
    "\n",
    "# Create list of dicts with permutated parameters\n",
    "paramsDict = permutate_params(params=params)\n",
    "\n",
    "# Create all stim-space stimuli\n",
    "stimSpace = create_stimspace_stimuli(\n",
    "    stimulus_function=circular_two_sided,\n",
    "    permutations_dicts=paramsDict,\n",
    ")\n",
    "\n",
    "# Display all\n",
    "plot_stimuli(stimSpace, units=\"deg\")"
   ]
  },
  {
   "cell_type": "markdown",
   "id": "ffaa8a18",
   "metadata": {},
   "source": [
    "## White stimulus"
   ]
  },
  {
   "cell_type": "code",
   "execution_count": null,
   "id": "b6a2ed2f",
   "metadata": {},
   "outputs": [],
   "source": [
    "from stimupy.stimuli.whites import white \n",
    "from stimupy.utils import plot_stimuli, permutate_params, create_stimspace_stimuli\n",
    "\n",
    "# Define parameters\n",
    "params = {\n",
    "    \"visual_size\": [8.],\n",
    "    \"ppd\": [32],\n",
    "    \"n_bars\": [8, 16, 32],          # vary number of bars\n",
    "    \"target_indices\": [(3, -2)],\n",
    "    \"target_heights\": [0.25, 1, 4], # vary target height\n",
    "}\n",
    "\n",
    "# Create list of dicts with permutated parameters\n",
    "paramsDict = permutate_params(params=params)\n",
    "\n",
    "# Create all stim-space stimuli\n",
    "stimSpace = create_stimspace_stimuli(\n",
    "    stimulus_function=white,\n",
    "    permutations_dicts=paramsDict,\n",
    ")\n",
    "\n",
    "# Display all\n",
    "plot_stimuli(stimSpace, units=\"deg\")"
   ]
  },
  {
   "cell_type": "markdown",
   "id": "c287a527",
   "metadata": {},
   "source": [
    "## Todorovic cross"
   ]
  },
  {
   "cell_type": "code",
   "execution_count": null,
   "id": "61824bbb",
   "metadata": {},
   "outputs": [],
   "source": [
    "from stimupy.stimuli.todorovics import cross \n",
    "from stimupy.utils import plot_stimuli, permutate_params, create_stimspace_stimuli\n",
    "\n",
    "# Define parameters\n",
    "params = {\n",
    "    \"visual_size\": [(5, 5)],\n",
    "    \"ppd\": [100],\n",
    "    \"cross_size\": [2],\n",
    "    \"cross_thickness\": [0.25, 0.5, 1.5],  # vary cross thickness\n",
    "    \"covers_size\": [1],\n",
    "    \"intensity_background\": [0, 1],\n",
    "    \"intensity_covers\": [0, 1],\n",
    "}\n",
    "\n",
    "# Create list of dicts with permutated parameters\n",
    "paramsDict = permutate_params(params=params)\n",
    "\n",
    "# Create all stim-space stimuli\n",
    "stimSpace = create_stimspace_stimuli(\n",
    "    stimulus_function=cross,\n",
    "    permutations_dicts=paramsDict,\n",
    ")\n",
    "\n",
    "# Display all\n",
    "plot_stimuli(stimSpace, units=\"deg\")"
   ]
  },
  {
   "cell_type": "markdown",
   "id": "d50ac6fa",
   "metadata": {},
   "source": [
    "## Bullseye"
   ]
  },
  {
   "cell_type": "code",
   "execution_count": null,
   "id": "d8985ca8",
   "metadata": {},
   "outputs": [],
   "source": [
    "from stimupy.stimuli.bullseyes import circular_two_sided \n",
    "from stimupy.utils import plot_stimuli, permutate_params, create_stimspace_stimuli\n",
    "\n",
    "# Define parameters\n",
    "params = {\n",
    "    \"visual_size\": [(5, 5)],\n",
    "    \"ppd\": [100],\n",
    "    \"n_rings\": [5, 10, 20],\n",
    "}\n",
    "\n",
    "# Create list of dicts with permutated parameters\n",
    "paramsDict = permutate_params(params=params)\n",
    "\n",
    "# Create all stim-space stimuli\n",
    "stimSpace = create_stimspace_stimuli(\n",
    "    stimulus_function=circular_two_sided,\n",
    "    permutations_dicts=paramsDict,\n",
    ")\n",
    "\n",
    "# Display all\n",
    "plot_stimuli(stimSpace, units=\"deg\")"
   ]
  },
  {
   "cell_type": "markdown",
   "id": "48242adc",
   "metadata": {},
   "source": [
    "## White phase shift"
   ]
  },
  {
   "cell_type": "code",
   "execution_count": null,
   "id": "d332ad73",
   "metadata": {},
   "outputs": [],
   "source": [
    "from stimupy.stimuli.gratings import phase_shifted\n",
    "from stimupy.utils import plot_stimuli, permutate_params, create_stimspace_stimuli\n",
    "\n",
    "# Define parameters\n",
    "params = {\n",
    "    \"visual_size\": [(8, 8)],\n",
    "    \"ppd\": [100],\n",
    "    \"target_size\": [(1, 2),],\n",
    "    \"n_bars\": [8, 16, 32],        # vary number of bars\n",
    "    \"phase_shift\": [0, 90, 180],  # vary phase shift\n",
    "}\n",
    "\n",
    "# Create list of dicts with permutated parameters\n",
    "paramsDict = permutate_params(params=params)\n",
    "\n",
    "# Create all stim-space stimuli\n",
    "stimSpace = create_stimspace_stimuli(\n",
    "    stimulus_function=phase_shifted,\n",
    "    permutations_dicts=paramsDict,\n",
    ")\n",
    "\n",
    "# Display all\n",
    "plot_stimuli(stimSpace, units=\"deg\")"
   ]
  },
  {
   "cell_type": "markdown",
   "id": "c14390f0",
   "metadata": {},
   "source": [
    "## Checkerboard"
   ]
  },
  {
   "cell_type": "code",
   "execution_count": null,
   "id": "892187d7",
   "metadata": {},
   "outputs": [],
   "source": [
    "from stimupy.stimuli.checkerboards import checkerboard \n",
    "from stimupy.utils import plot_stimuli, permutate_params, create_stimspace_stimuli\n",
    "\n",
    "# Define parameters\n",
    "params = {\n",
    "    \"visual_size\": [(5, 5)],\n",
    "    \"ppd\": [100],\n",
    "    \"frequency\": [0.5, 2, 4],     # vary frequency\n",
    "    \"target_indices\": [[(2, 2),]]\n",
    "}\n",
    "\n",
    "# Create list of dicts with permutated parameters\n",
    "paramsDict = permutate_params(params=params)\n",
    "\n",
    "# Create all stim-space stimuli\n",
    "stimSpace = create_stimspace_stimuli(\n",
    "    stimulus_function=checkerboard,\n",
    "    permutations_dicts=paramsDict,\n",
    ")\n",
    "\n",
    "# Display all\n",
    "plot_stimuli(stimSpace, units=\"deg\")"
   ]
  },
  {
   "cell_type": "code",
   "execution_count": null,
   "id": "c4be356b",
   "metadata": {},
   "outputs": [],
   "source": []
  }
 ],
 "metadata": {
  "celltoolbar": "Slideshow",
  "kernelspec": {
   "display_name": "Python 3 (ipykernel)",
   "language": "python",
   "name": "python3"
  },
  "language_info": {
   "codemirror_mode": {
    "name": "ipython",
    "version": 3
   },
   "file_extension": ".py",
   "mimetype": "text/x-python",
   "name": "python",
   "nbconvert_exporter": "python",
   "pygments_lexer": "ipython3",
   "version": "3.11.9"
  },
  "toc": {
   "base_numbering": 1,
   "nav_menu": {},
   "number_sections": true,
   "sideBar": true,
   "skip_h1_title": false,
   "title_cell": "Table of Contents",
   "title_sidebar": "Contents",
   "toc_cell": false,
   "toc_position": {},
   "toc_section_display": true,
   "toc_window_display": false
  },
  "varInspector": {
   "cols": {
    "lenName": 16,
    "lenType": 16,
    "lenVar": 40
   },
   "kernels_config": {
    "python": {
     "delete_cmd_postfix": "",
     "delete_cmd_prefix": "del ",
     "library": "var_list.py",
     "varRefreshCmd": "print(var_dic_list())"
    },
    "r": {
     "delete_cmd_postfix": ") ",
     "delete_cmd_prefix": "rm(",
     "library": "var_list.r",
     "varRefreshCmd": "cat(var_dic_list()) "
    }
   },
   "types_to_exclude": [
    "module",
    "function",
    "builtin_function_or_method",
    "instance",
    "_Feature"
   ],
   "window_display": false
  }
 },
 "nbformat": 4,
 "nbformat_minor": 5
}
