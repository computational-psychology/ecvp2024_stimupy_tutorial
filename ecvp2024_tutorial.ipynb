{
 "cells": [
  {
   "cell_type": "markdown",
   "id": "0a616f53",
   "metadata": {},
   "source": [
    "# ECVP 2024 - stimupy tutorial\n",
    "\n",
    "Useful links:\n",
    "- stimupy documentation: https://stimupy.readthedocs.io/en/latest/index.html\n",
    "- stimupy paper: https://doi.org/10.21105/joss.05321\n",
    "- stimupy github: https://github.com/computational-psychology/stimupy"
   ]
  },
  {
   "cell_type": "code",
   "execution_count": null,
   "id": "7c99a80b",
   "metadata": {},
   "outputs": [],
   "source": [
    "%pip install stimupy"
   ]
  },
  {
   "cell_type": "markdown",
   "id": "6dc00a48",
   "metadata": {},
   "source": [
    "# Stimupy basics\n",
    "\n",
    "More information: https://stimupy.readthedocs.io/en/latest/topic_guides/organization.html\n",
    "\n",
    "## stimupy modules + imports\n",
    "\n",
    "stimupy's building blocks are its five subpackages.\n",
    "For demonstration purposes, we will import each subpackage individually in this tutorial."
   ]
  },
  {
   "cell_type": "code",
   "execution_count": null,
   "id": "561c1e90",
   "metadata": {},
   "outputs": [],
   "source": [
    "from stimupy import papers      # Stimulus sets of papers (full parametrizations + data)\n",
    "from stimupy import components  # Stimulus components (shapes, texts, gratings, etc)\n",
    "from stimupy import stimuli     # Stimuli (illusions, Gabors, plaids, etc)\n",
    "from stimupy import noises      # Noise textures\n",
    "from stimupy import utils       # Utility functions (plotting, exporting, etc)"
   ]
  },
  {
   "cell_type": "code",
   "execution_count": null,
   "id": "2f134cec",
   "metadata": {},
   "outputs": [],
   "source": [
    "import warnings\n",
    "warnings.filterwarnings('ignore') # Turn off warnings during overview"
   ]
  },
  {
   "cell_type": "markdown",
   "id": "5c74902f",
   "metadata": {},
   "source": [
    "### Papers\n",
    "\n",
    "stimupy comes with a growing list of\n",
    "exact re-implementations of stimulus sets from existing publications.\n",
    "These re-implementations allow stimupy users to import full stimulus sets\n",
    "including full parameterizations \n",
    "but also including, e.g., experimental data within a single line of code.\n",
    "\n",
    "Each publication is its own `import`able module.\n",
    "A full overview of existing paper-reimplementations can be found in the documentation:\n",
    "https://stimupy.readthedocs.io/en/latest/reference/_api/stimupy.papers.html"
   ]
  },
  {
   "cell_type": "code",
   "execution_count": null,
   "id": "c25afeb3",
   "metadata": {},
   "outputs": [],
   "source": [
    "help(papers)"
   ]
  },
  {
   "cell_type": "markdown",
   "id": "3148500a",
   "metadata": {},
   "source": [
    "Here we show the ModelFest stimuli as one example of stimupy's versatility."
   ]
  },
  {
   "cell_type": "code",
   "execution_count": null,
   "id": "8d7504a3",
   "metadata": {},
   "outputs": [],
   "source": [
    "from stimupy.papers import modelfest              # papers need to be imported explicitly\n",
    "modelfest_stims = modelfest.gen_all()             # generate modelfest stimuli"
   ]
  },
  {
   "cell_type": "markdown",
   "id": "c6b562da",
   "metadata": {},
   "source": [
    "And we can use the `plot_stimuli` utility function to display them all:"
   ]
  },
  {
   "cell_type": "code",
   "execution_count": null,
   "id": "01c5aec2",
   "metadata": {},
   "outputs": [],
   "source": [
    "utils.plot_stimuli(modelfest_stims, units=\"deg\")  # plot modelfest stimuli with utils (deg or pix)"
   ]
  },
  {
   "cell_type": "markdown",
   "id": "fcfb065d",
   "metadata": {},
   "source": [
    "### Components\n",
    "There is no objective way to differentiate stimupy's components from its stimuli.\n",
    "In principle, every component could be considered a stimulus.\n",
    "The distinctions we make in stimupy are: \n",
    "firstly, that the components are “atomic” in a sense \n",
    "and hence underlie multiple different stimuli;\n",
    "secondly, most stimuli contain target(s) – a region of special scientific interest –\n",
    "and come with a target_mask that indicates these targets.\n",
    "\n",
    "Components are organized into several subpackages as well,\n",
    "based on their general look and behavior.\n",
    "A full overview of components and their arguments can be found in the documentation:\n",
    "https://stimupy.readthedocs.io/en/latest/reference/_api/stimupy.components.html\n",
    "\n",
    "In the following, we will provide a overview of stimupy's components\n",
    "as implemented in `stimupy.components.plot_overview()`"
   ]
  },
  {
   "cell_type": "code",
   "execution_count": null,
   "id": "60cc261f",
   "metadata": {},
   "outputs": [],
   "source": [
    "help(components)"
   ]
  },
  {
   "cell_type": "code",
   "execution_count": null,
   "id": "f2ef2cd8",
   "metadata": {},
   "outputs": [],
   "source": [
    "components.plot_overview()"
   ]
  },
  {
   "cell_type": "markdown",
   "id": "763db851",
   "metadata": {},
   "source": [
    "### Stimuli\n",
    "\n",
    "A full overview of stimuli and their documentation can be found here: https://stimupy.readthedocs.io/en/latest/reference/_api/stimupy.stimuli.html\n",
    "\n",
    "In the following, we will provide a quick overview of stimupy's stimuli as implemented in `stimupy.stimuli.plot_overview()`"
   ]
  },
  {
   "cell_type": "code",
   "execution_count": null,
   "id": "370ae7d5",
   "metadata": {},
   "outputs": [],
   "source": [
    "help(stimuli)"
   ]
  },
  {
   "cell_type": "code",
   "execution_count": null,
   "id": "6aa67b65",
   "metadata": {
    "scrolled": false
   },
   "outputs": [],
   "source": [
    "stimuli.plot_overview()"
   ]
  },
  {
   "cell_type": "markdown",
   "id": "df1ef03f",
   "metadata": {},
   "source": [
    "### Noises\n",
    "\n",
    "stimupy also provides the most commonly used noise textures. A full overiew with documentation can be found here: https://stimupy.readthedocs.io/en/latest/reference/_api/stimupy.noises.html"
   ]
  },
  {
   "cell_type": "code",
   "execution_count": null,
   "id": "00016cc5",
   "metadata": {},
   "outputs": [],
   "source": [
    "help(noises)"
   ]
  },
  {
   "cell_type": "code",
   "execution_count": null,
   "id": "9182ce3f",
   "metadata": {},
   "outputs": [],
   "source": [
    "noises.plot_overview()"
   ]
  },
  {
   "cell_type": "markdown",
   "id": "e4088814",
   "metadata": {},
   "source": [
    "### Utility functions\n",
    "stimupy contains a large number of utility functions which can be used to manipulate (e.g. pad, adapt contrasts, filter, mask), plot, and/or export the stimulus arrays that it can generate.\n",
    "All of these functions are listed and documented extensively here: https://stimupy.readthedocs.io/en/latest/reference/_api/stimupy.utils.html\n",
    "\n",
    "In the following tutorial, we will mostly use the plotting utilities of stimupy."
   ]
  },
  {
   "cell_type": "code",
   "execution_count": null,
   "id": "940c1917",
   "metadata": {},
   "outputs": [],
   "source": [
    "help(utils)"
   ]
  },
  {
   "cell_type": "markdown",
   "id": "9860d7a7",
   "metadata": {},
   "source": [
    "## Challenge 0: generate an existing stimulus\n",
    "Generate the Zigzag White's effect (\"Wedding cake\") illusion\n",
    "from the Robinson, Hammon & De Sa (2007) paper."
   ]
  },
  {
   "cell_type": "code",
   "execution_count": null,
   "id": "9a44fe6d",
   "metadata": {},
   "outputs": [],
   "source": [
    "# your code here"
   ]
  },
  {
   "cell_type": "markdown",
   "id": "84379342",
   "metadata": {},
   "source": [
    "## Stimulus generation with stimupy\n",
    "\n",
    "### Question: what should be input arguments to our stimulus function(s)?"
   ]
  },
  {
   "cell_type": "code",
   "execution_count": null,
   "id": "f875c74d",
   "metadata": {},
   "outputs": [],
   "source": [
    "# Make some notes here:"
   ]
  },
  {
   "cell_type": "markdown",
   "id": "363c75ea",
   "metadata": {},
   "source": [
    "### stimupy's documentation"
   ]
  },
  {
   "cell_type": "code",
   "execution_count": null,
   "id": "6a100fc3",
   "metadata": {},
   "outputs": [],
   "source": [
    "help(stimuli.whites.white)"
   ]
  },
  {
   "cell_type": "markdown",
   "id": "723832f4",
   "metadata": {},
   "source": [
    "### Create a stimulus"
   ]
  },
  {
   "cell_type": "code",
   "execution_count": null,
   "id": "4f67c8ec",
   "metadata": {},
   "outputs": [],
   "source": [
    "warnings.filterwarnings('always') # Turn on warnings again for useful information"
   ]
  },
  {
   "cell_type": "code",
   "execution_count": null,
   "id": "30439db3",
   "metadata": {},
   "outputs": [],
   "source": [
    "# Create stimulus\n",
    "white = stimuli.whites.white(\n",
    "    visual_size=5.,\n",
    "    ppd=32,\n",
    "    n_bars=10,\n",
    "    target_indices=(3, -2),\n",
    "    target_heights=1.,\n",
    ")\n",
    "\n",
    "# Plot stimulus\n",
    "utils.plot_stim(white, units=\"deg\")"
   ]
  },
  {
   "cell_type": "markdown",
   "id": "73b517d7",
   "metadata": {},
   "source": [
    "## Function output: dictionary\n",
    "\n",
    "Regard output of stimupy's image-generating functions (stimuli, components, noises):\n",
    "1. they return a `dict`. These dictionaries contain the stimulus array (`\"img\"`), information about the stimulus as well as a number of masks that we will explore later. One of the advantages of using dictionaries is that we can add as much additional information as we need.\n",
    "For the paper-stimuli that we have seen previously, this can also be e.g. experimental data.\n",
    "2. The stimulus is provided as an array (`\"img\"`). This allows the user to use any standard array-manipulation tooling to further process / maniupulate the stimulus.\n"
   ]
  },
  {
   "cell_type": "code",
   "execution_count": null,
   "id": "0e5ce013",
   "metadata": {},
   "outputs": [],
   "source": [
    "print(\"Type:\", type(white))\n",
    "print()\n",
    "print(\"Keys:\", white.keys())\n",
    "print()\n",
    "print(\"Type of 'img'\", type(white[\"img\"]))"
   ]
  },
  {
   "cell_type": "markdown",
   "id": "dd49d785",
   "metadata": {},
   "source": [
    "stimupy also filled in all of the blanks,\n",
    "i.e., all of the parameters that we did not specify but which can be inferred.\n",
    "\n",
    "Into `stimupy.stimuli.whites.white`\n",
    "we passed a `visual_size`, a `ppd` and `n_bars`\n",
    "-- and stimupy inferred the `shape`, `frequency` and `bar_width` of the stimulus."
   ]
  },
  {
   "cell_type": "code",
   "execution_count": null,
   "id": "78029ce5",
   "metadata": {},
   "outputs": [],
   "source": [
    "print(white[\"shape\"])\n",
    "print(white[\"frequency\"])\n",
    "print(white[\"bar_width\"])"
   ]
  },
  {
   "cell_type": "markdown",
   "id": "12314b3f",
   "metadata": {},
   "source": [
    "The completed output dictionaries make stimuli generated through these functions\n",
    "self-documenting: they contain all the information needed to regenerate this specific stimulus.\n",
    "All the keyword arguments of the `stimupy.stimuli.whites.white`-function are present in the `dict`.\n",
    "We simply need to \"strip\" out any additional fields (e.g., the `\"img\"`),\n",
    "and we have a full documentation of stimulus parameters.\n",
    "\n",
    "The `strip_dict()` utility function does this for you:"
   ]
  },
  {
   "cell_type": "code",
   "execution_count": null,
   "id": "2d33a3d9",
   "metadata": {},
   "outputs": [],
   "source": [
    "help(utils.strip_dict)"
   ]
  },
  {
   "cell_type": "code",
   "execution_count": null,
   "id": "123a52c9",
   "metadata": {},
   "outputs": [],
   "source": [
    "utils.strip_dict(white, stimuli.whites.white)\n"
   ]
  },
  {
   "cell_type": "markdown",
   "id": "52d671ba",
   "metadata": {},
   "source": [
    "And we can use \"`dict`-expansion\" `**<dict>` to pass these back into the function:"
   ]
  },
  {
   "cell_type": "code",
   "execution_count": null,
   "id": "c1cfe49a",
   "metadata": {},
   "outputs": [],
   "source": [
    "whites_replicate = stimuli.whites.white(**utils.strip_dict(white, stimuli.whites.white))\n",
    "utils.plot_stim(whites_replicate)"
   ]
  },
  {
   "cell_type": "markdown",
   "id": "10953817",
   "metadata": {},
   "source": [
    "## Challenge Ia: recreate stimulus from description\n",
    "A (circular) gabor:\n",
    "- 2x2 degrees\n",
    "- with a spatial frequency of 2cpd\n",
    "- and a standard deviation sigma of .5\n",
    "- oriented at 45 degrees\n",
    "\n",
    "Use `stimuli.gabors.gabor(...)`\n"
   ]
  },
  {
   "cell_type": "code",
   "execution_count": null,
   "id": "c934b3dd",
   "metadata": {},
   "outputs": [],
   "source": [
    "# Your code"
   ]
  },
  {
   "cell_type": "markdown",
   "id": "5722b69d",
   "metadata": {},
   "source": [
    "## Challenge Ia (another): recreate stimulus from description\n",
    "A simultaneous brightness contrast display, with two halves:\n",
    "- one with a black background\n",
    "- one with a white background\n",
    "- each containing a central 4x4 deg target\n",
    "- of intermediate gray\n",
    "- total stimulus size is 16x8 degrees (w x h)\n",
    "- in 1024x512 pixels\n",
    "\n",
    "Use `stimuli.sbcs.basic_two_sided(...)`\n"
   ]
  },
  {
   "cell_type": "code",
   "execution_count": null,
   "id": "4caae6d3",
   "metadata": {},
   "outputs": [],
   "source": [
    "# Your code"
   ]
  },
  {
   "cell_type": "markdown",
   "id": "2480ec5a",
   "metadata": {},
   "source": [
    "## Challenge Ib: recreate stimulus from image"
   ]
  },
  {
   "cell_type": "markdown",
   "id": "41026a02",
   "metadata": {},
   "source": [
    "Use either:\n",
    "- `stimuli.todorovics.rectangle`\n",
    "- `stimuli.todorovics.cross`"
   ]
  },
  {
   "cell_type": "code",
   "execution_count": null,
   "id": "ed8ba7ee",
   "metadata": {},
   "outputs": [],
   "source": [
    "# Your code"
   ]
  },
  {
   "cell_type": "markdown",
   "id": "fecf65c2",
   "metadata": {},
   "source": [
    "# Adapting stimuli - Parameterization with stimupy\n",
    "\n",
    "Stimulus functions in stimupy are highly parameterized.\n",
    "This makes it easy to generate a wide variety of stimuli with the same function.\n",
    "To give you an idea about what this means, we will explore parameterizations with stimupy in a number of ways:\n",
    "1. interactively\n",
    "2. manually\n",
    "3. through stim-spaces"
   ]
  },
  {
   "cell_type": "markdown",
   "id": "6d4354f8",
   "metadata": {},
   "source": [
    "## Interactively\n",
    "Let's first look at our White stimulus example by exploring its parameters interactively."
   ]
  },
  {
   "cell_type": "code",
   "execution_count": null,
   "id": "de5acab4",
   "metadata": {
    "hide_input": false,
    "scrolled": false
   },
   "outputs": [],
   "source": [
    "#@title Code collapse\n",
    "import ipywidgets as iw\n",
    "\n",
    "# Define widgets\n",
    "w_height = iw.IntSlider(value=5, min=1, max=20, description=\"height [deg]\")\n",
    "w_width = iw.IntSlider(value=5, min=1, max=20, description=\"width [deg]\")\n",
    "w_ppd = iw.IntSlider(value=20, min=1, max=40, description=\"ppd\")\n",
    "\n",
    "w_freq = iw.FloatSlider(value=1, min=0, max=2, description=\"frequency [cpd]\")\n",
    "w_rot = iw.FloatSlider(value=0, min=0, max=360, description=\"rotation [deg]\")\n",
    "\n",
    "w_int1 = iw.FloatSlider(value=1, min=0, max=1, description=\"bar1 intensity\")\n",
    "w_int2 = iw.FloatSlider(value=0, min=0, max=1, description=\"bar2 intensity\")\n",
    "\n",
    "w_tidx = iw.IntSlider(value=3, min=0, max=20, description=\"target1 index\")\n",
    "w_tint = iw.FloatSlider(value=0.5, min=0, max=1, description=\"target1 intensity\")\n",
    "w_theights = iw.FloatSlider(value=1, min=0, max=5, description=\"target1 height [deg]\")\n",
    "\n",
    "w_tidx2 = iw.IntSlider(value=-2, min=-20, max=0, description=\"target2 index\")\n",
    "w_tint2 = iw.FloatSlider(value=0.5, min=0, max=1, description=\"target2 intensity\")\n",
    "w_theights2 = iw.FloatSlider(value=1, min=0, max=5, description=\"target2 height [deg]\")\n",
    "\n",
    "w_ori = iw.Dropdown(value=\"corner\", options=['mean', 'corner', 'center'], description=\"origin\")\n",
    "w_period = iw.Dropdown(value=\"ignore\", options=['ignore', 'even', 'odd', 'either'], description=\"period\")\n",
    "w_mask = iw.ToggleButton(value=False, disabled=False, description=\"add mask\")\n",
    "\n",
    "# Layout\n",
    "b_im_size = iw.HBox([w_height, w_width, w_ppd])\n",
    "b_geometry = iw.HBox([w_freq, w_rot])\n",
    "b_intensities = iw.HBox([w_int1, w_int2])\n",
    "b_target = iw.HBox([w_tidx, w_tint, w_theights])\n",
    "b_target2 = iw.HBox([w_tidx2, w_tint2, w_theights2])\n",
    "b_add = iw.HBox([w_ori, w_period, w_mask])\n",
    "ui = iw.VBox([b_im_size, b_geometry, b_intensities, b_target, b_target2, b_add])\n",
    "\n",
    "# Function for showing stim\n",
    "def show_white(\n",
    "    height=None,\n",
    "    width=None,\n",
    "    ppd=None,\n",
    "    rotation=None,\n",
    "    frequency=None,\n",
    "    sigma=None,\n",
    "    int1=None,\n",
    "    int2=None,\n",
    "    origin=None,\n",
    "    period=None,\n",
    "    add_mask=False,\n",
    "    target_idx=None,\n",
    "    intensity_target=None,\n",
    "    target_idx2=None,\n",
    "    intensity_target2=None,\n",
    "    target_heights=None,\n",
    "    target_heights2=None,\n",
    "):\n",
    "    try:\n",
    "        stim = stimuli.whites.white(\n",
    "            visual_size=(height, width),\n",
    "            ppd=ppd,\n",
    "            rotation=rotation,\n",
    "            frequency=frequency,\n",
    "            intensity_bars=(int1, int2),\n",
    "            origin=origin,\n",
    "            period=period,\n",
    "            target_indices=(target_idx, target_idx2),\n",
    "            intensity_target=(intensity_target, intensity_target2),\n",
    "            target_heights=(target_heights, target_heights2),\n",
    "        )\n",
    "        utils.plot_stim(stim, mask=add_mask)\n",
    "    except Exception as e:\n",
    "        raise ValueError(f\"Invalid parameter combination: {e}\") from None\n",
    "\n",
    "# Set interactivity\n",
    "out = iw.interactive_output(\n",
    "    show_white,\n",
    "    {\n",
    "        \"height\": w_height,\n",
    "        \"width\": w_width,\n",
    "        \"ppd\": w_ppd,\n",
    "        \"rotation\": w_rot,\n",
    "        \"frequency\": w_freq,\n",
    "        \"int1\": w_int1,\n",
    "        \"int2\": w_int2,\n",
    "        \"origin\": w_ori,\n",
    "        \"period\": w_period,\n",
    "        \"add_mask\": w_mask,\n",
    "        \"target_idx\": w_tidx,\n",
    "        \"intensity_target\": w_tint,\n",
    "        \"target_heights\": w_theights,\n",
    "        \"target_idx2\": w_tidx2,\n",
    "        \"intensity_target2\": w_tint2,\n",
    "        \"target_heights2\": w_theights2,\n",
    "    },\n",
    ")\n",
    "\n",
    "# Show\n",
    "display(ui, out)"
   ]
  },
  {
   "cell_type": "markdown",
   "id": "f46705e1",
   "metadata": {},
   "source": [
    "## Manually\n",
    "\n",
    "Alternatively, we can simply pass a set of stimulus parameters to the stimulus function by passing them directly to the function (see stimulus creation at the top) or by passing them in the form of a dict."
   ]
  },
  {
   "cell_type": "code",
   "execution_count": null,
   "id": "552a2b11",
   "metadata": {},
   "outputs": [],
   "source": [
    "# Another option is to define parameters in a dict, which is sometimes more useful\n",
    "white_params = {\n",
    "    \"visual_size\": 5.,\n",
    "    \"ppd\": 32,\n",
    "    \"n_bars\": 10,\n",
    "    \"target_indices\": (3, -2),\n",
    "    \"target_heights\": 1.,\n",
    "}\n",
    "\n",
    "white = stimuli.whites.white(**white_params)   # Create stimulus\n",
    "utils.plot_stim(white, units=\"deg\")           # Plot stimulus"
   ]
  },
  {
   "cell_type": "markdown",
   "id": "3ca12803",
   "metadata": {},
   "source": [
    "## Stimulus parameter spaces (stim-spaces)\n",
    "\n",
    "Another perk of stimupy is that we can create so-called \"stimulus spaces\".\n",
    "\n",
    "To generate a stimspace, stimupy provides two utility functions called `permutate_params` to generate a dictionary with all possible parameter-combinations, and `create_stimspace_stimuli` to actually generate the desired stimuli.\n",
    "\n",
    "Different from before, the parameters that occupy the stimspace need to be provided as lists (see `whiteParams2`)."
   ]
  },
  {
   "cell_type": "code",
   "execution_count": null,
   "id": "99e42cd1",
   "metadata": {},
   "outputs": [],
   "source": [
    "# Define parameters of White's stim-space\n",
    "white_params2 = {\n",
    "    \"visual_size\": [8.],            # each param should be passed in a list []\n",
    "    \"ppd\": [32],\n",
    "    \"n_bars\": [8, 16, 32],          # lists with multiple params will span the stim-space\n",
    "    \"target_indices\": [(3, -2)],\n",
    "    \"target_heights\": [0.25, 1, 4],\n",
    "}\n",
    "\n",
    "# Permutate the above stimulus specifications with stimupys utility function\n",
    "permuted_params = utils.permutate_params(params=white_params2)\n",
    "permuted_params"
   ]
  },
  {
   "cell_type": "code",
   "execution_count": null,
   "id": "d975a5a1",
   "metadata": {},
   "outputs": [],
   "source": [
    "# Create all stimuli with the above-defined params\n",
    "stimSpace = utils.create_stimspace_stimuli(\n",
    "    stimulus_function=stimuli.whites.white,\n",
    "    permutations_dicts=permuted_params,\n",
    ")\n",
    "\n",
    "# Display all\n",
    "utils.plot_stimuli(stimSpace, units=\"deg\")"
   ]
  },
  {
   "cell_type": "markdown",
   "id": "42dba657",
   "metadata": {},
   "source": [
    "## Challenge II: Create your own stim-space\n",
    "Using `.stimuli.checkerboards.checkerboard(...)`:\n",
    "- create several variants, one at a time\n",
    "- changing parameters such as:\n",
    "    - check_visual_size\n",
    "    - board_shape\n",
    "    - visual_size\n",
    "    - frequency\n",
    "- once you have a grasp of arguments, try creating a stim space\n"
   ]
  },
  {
   "cell_type": "code",
   "execution_count": null,
   "id": "ef1bbe11",
   "metadata": {},
   "outputs": [],
   "source": [
    "# Your code"
   ]
  },
  {
   "cell_type": "markdown",
   "id": "5ac404f1",
   "metadata": {},
   "source": [
    "# Composing stimuli with stimupy - the fun stuff\n",
    "\n",
    "Another one of stimupy's perks is that it provides the basis to more easily compose new stimuli as compared to other software.\n",
    "Funnily, even the stimupy logo was fully composed with stimupy.\n",
    "\n",
    "But how does stimupy support the user to compose (new) stimuli?\n",
    "There are two main building blocks:\n",
    "1. stimupy provides direct access to the stimulus array which can be manipulated be the user (as discussed earlier)\n",
    "2. stimupy's stimulus generation builds upon \"masks\" which we will explore in the following"
   ]
  },
  {
   "cell_type": "markdown",
   "id": "03f6af44",
   "metadata": {},
   "source": [
    "## Obsession with masks\n",
    "Another tool for stimulus manipulation that we have not discussed yet,\n",
    "are the `mask`-keys that stimupy's output `dict` contain.\n",
    "\n",
    "Just like the `\"img\"`, a stimulus `\"mask\"` is a `numpy.ndarray`. \n",
    "Each entry of the `\"mask\"` corresponds to a pixel in the stimulus array (i.e., it has the same shape).\n",
    "\n",
    "Importantly, the `\"mask\"` contains only integer-values which correspond to a geometric region of interest.\n",
    "In our case, we have a `\"target_mask\"` and a `\"bar_mask\"`.\n",
    "We can see that the masks allow us to specifically interact with the corresponding regions of interest.\n",
    "This is particularly useful for computational modeling or for stimulus composition.\n",
    "\n",
    "Find more information on stimulus composition with stimupy here: https://stimupy.readthedocs.io/en/latest/getting_started/composition.html"
   ]
  },
  {
   "cell_type": "code",
   "execution_count": null,
   "id": "911456c1",
   "metadata": {},
   "outputs": [],
   "source": [
    "utils.plot_stim(white, units=\"deg\", mask=\"target_mask\") # Plot stimulus with target mask\n",
    "utils.plot_stim(white, units=\"deg\", mask=\"bar_mask\")    # Plot stimulus with bar mask"
   ]
  },
  {
   "cell_type": "markdown",
   "id": "4cd9239d",
   "metadata": {},
   "source": [
    "## Demo: adding a noise texture\n",
    "\n",
    "To demonstrate the utility of masks, we will use the `\"bar_mask\"` to add a noise texture on all black bars of White's stimulus.\n",
    "Let's create a noise texture first:"
   ]
  },
  {
   "cell_type": "code",
   "execution_count": null,
   "id": "3288304c",
   "metadata": {},
   "outputs": [],
   "source": [
    "# Create pink noise texture\n",
    "noise_pink = noises.naturals.pink(\n",
    "    visual_size=white[\"visual_size\"],\n",
    "    ppd=white[\"ppd\"],\n",
    "    intensity_range=(-.5, .5)\n",
    ")\n",
    "\n",
    "# Plot\n",
    "utils.plot_stim(noise_pink, vmin=-.5, vmax=.5)"
   ]
  },
  {
   "cell_type": "markdown",
   "id": "ca5bb9db",
   "metadata": {},
   "source": [
    "Since our `\"img\"` is a simple array, we can use numpy's backbone to adapt the stimulus array."
   ]
  },
  {
   "cell_type": "code",
   "execution_count": null,
   "id": "4f56a3fb",
   "metadata": {},
   "outputs": [],
   "source": [
    "import numpy as np\n",
    "\n",
    "# Use masks to add noise to black bars only - leave out target\n",
    "noisy_img = np.where(\n",
    "    ((white[\"bar_mask\"]%2==0) * (white[\"target_mask\"]==0)),\n",
    "    white[\"img\"]+noise_pink[\"img\"],\n",
    "    white[\"img\"]\n",
    ")\n",
    "\n",
    "# Create stimulus dictionary with combined information\n",
    "noisy_whites = {**white, **noise_pink}\n",
    "noisy_whites[\"img\"] = noisy_img\n",
    "#print(noisyWhite.keys())\n",
    "\n",
    "# Plot old and new stimulus\n",
    "utils.plot_stimuli({\"white\": white, \"noisyWhite\": noisy_whites}, vmin=-.5, vmax=1.5)"
   ]
  },
  {
   "cell_type": "markdown",
   "id": "a9310ec4",
   "metadata": {},
   "source": [
    "## Challenge IV: compose a new stimulus\n",
    "Create a dartboard:\n",
    "- start with a (circular) bullseye stimulus\n",
    "   - have it be large, but with narrow rings (e.g., 1 deg rings on 20x20 deg display)\n",
    "- create two sets of 20 angular segments,\n",
    "   - shifted by 1 phase\n",
    "- create a new `\"img\"` (array)\n",
    "   - using `ring_mask` from bullseye stimulus\n",
    "   - replacing \"rings\" with angular segments image\n",
    "- wrap into a `dict`, with the new `\"img\"`"
   ]
  },
  {
   "cell_type": "code",
   "execution_count": null,
   "id": "649d7a63",
   "metadata": {},
   "outputs": [],
   "source": [
    "# Your code"
   ]
  },
  {
   "cell_type": "markdown",
   "id": "0f89b7bd",
   "metadata": {},
   "source": [
    "# Sandbox!\n",
    "\n",
    "We introduced you to the principles of stimupy.\n",
    "Now, it's your turn.\n",
    "Feel free to explore the many stimuli you can use with stimupy and personalize it.\n",
    "\n",
    "Use the above introduced functions to guide your stimulus creation or ask us:\n",
    "- `help(function)` to see documentation of function\n",
    "- documentation of each function: https://stimupy.readthedocs.io/en/latest/reference/_api/stimupy.stimuli.html\n",
    "- demos for each function: https://stimupy.readthedocs.io/en/latest/reference/demos.html\n",
    "- overviews at the top of this notebook for inspiration"
   ]
  },
  {
   "cell_type": "code",
   "execution_count": null,
   "id": "3872ddb2",
   "metadata": {},
   "outputs": [],
   "source": [
    "# Print \"stimulus\" modules contained in stimupy\n",
    "help(stimuli)"
   ]
  },
  {
   "cell_type": "code",
   "execution_count": null,
   "id": "c2bbac37",
   "metadata": {},
   "outputs": [],
   "source": [
    "# Print & plot functions of example stimulus module (here: simultaneous brightness contrast)\n",
    "help(stimuli.sbcs)\n",
    "utils.plot_stimuli(stimuli.sbcs.overview())"
   ]
  },
  {
   "cell_type": "markdown",
   "id": "5b2bc649",
   "metadata": {},
   "source": [
    "## Ready to get your hands dirty?"
   ]
  },
  {
   "cell_type": "code",
   "execution_count": null,
   "id": "0949c318",
   "metadata": {},
   "outputs": [],
   "source": [
    "# Your code"
   ]
  },
  {
   "cell_type": "code",
   "execution_count": null,
   "id": "5f56bfbe",
   "metadata": {},
   "outputs": [],
   "source": []
  }
 ],
 "metadata": {
  "kernelspec": {
   "display_name": "Python 3 (ipykernel)",
   "language": "python",
   "name": "python3"
  },
  "language_info": {
   "codemirror_mode": {
    "name": "ipython",
    "version": 3
   },
   "file_extension": ".py",
   "mimetype": "text/x-python",
   "name": "python",
   "nbconvert_exporter": "python",
   "pygments_lexer": "ipython3",
   "version": "3.11.9"
  },
  "toc": {
   "base_numbering": 1,
   "nav_menu": {},
   "number_sections": true,
   "sideBar": true,
   "skip_h1_title": false,
   "title_cell": "Table of Contents",
   "title_sidebar": "Contents",
   "toc_cell": false,
   "toc_position": {},
   "toc_section_display": true,
   "toc_window_display": false
  },
  "varInspector": {
   "cols": {
    "lenName": 16,
    "lenType": 16,
    "lenVar": 40
   },
   "kernels_config": {
    "python": {
     "delete_cmd_postfix": "",
     "delete_cmd_prefix": "del ",
     "library": "var_list.py",
     "varRefreshCmd": "print(var_dic_list())"
    },
    "r": {
     "delete_cmd_postfix": ") ",
     "delete_cmd_prefix": "rm(",
     "library": "var_list.r",
     "varRefreshCmd": "cat(var_dic_list()) "
    }
   },
   "types_to_exclude": [
    "module",
    "function",
    "builtin_function_or_method",
    "instance",
    "_Feature"
   ],
   "window_display": false
  }
 },
 "nbformat": 4,
 "nbformat_minor": 5
}
