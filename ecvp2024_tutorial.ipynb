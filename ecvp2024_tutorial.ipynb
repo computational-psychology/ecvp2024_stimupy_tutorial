{
 "cells": [
  {
   "cell_type": "markdown",
   "id": "90dc17fd",
   "metadata": {},
   "source": [
    "# ECVP 2024 - stimupy tutorial\n",
    "\n",
    "Useful links:\n",
    "- stimupy readthedocs: https://stimupy.readthedocs.io/en/latest/index.html\n",
    "- stimupy paper: https://doi.org/10.21105/joss.05321\n",
    "- stimupy github: https://github.com/computational-psychology/stimupy"
   ]
  },
  {
   "cell_type": "markdown",
   "id": "87f6ee22",
   "metadata": {},
   "source": [
    "# Organization of stimupy\n",
    "\n",
    "More information: https://stimupy.readthedocs.io/en/latest/topic_guides/organization.html\n",
    "\n",
    "## Overview of modules and their content\n",
    "\n",
    "stimupy's building blocks are the following five modules:"
   ]
  },
  {
   "cell_type": "code",
   "execution_count": null,
   "id": "174b846a",
   "metadata": {},
   "outputs": [],
   "source": [
    "from stimupy import papers as papers             # Stimulus sets of papers (full parametrizations + data)\n",
    "from stimupy import components as components     # Stimulus components (shapes, texts, gratings, etc)\n",
    "from stimupy import stimuli as stimuli           # Stimuli (illusions, Gabors, plaids, etc)\n",
    "from stimupy import noises as noises             # Noise textures\n",
    "from stimupy import utils as utils               # Utility functions (plotting, exporting, etc)"
   ]
  },
  {
   "cell_type": "code",
   "execution_count": null,
   "id": "90a73439",
   "metadata": {},
   "outputs": [],
   "source": [
    "import warnings\n",
    "warnings.filterwarnings('ignore') # Turn off warnings during overview"
   ]
  },
  {
   "cell_type": "markdown",
   "id": "bdcac79b",
   "metadata": {},
   "source": [
    "## Papers\n",
    "\n",
    "stimupy comes with a growing list of exact re-implementations of stimulus sets from existing publications. These re-implementations allow stimupy users to import full stimulus sets including full parameterizations but also including e.g. experimental data within a single line of code.\n",
    "A full overview of existing paper-reimplementations can be found here: https://stimupy.readthedocs.io/en/latest/reference/_api/stimupy.papers.html\n",
    "\n",
    "In the following, we show the ModelFest stimuli as one example of stimupy's versatility."
   ]
  },
  {
   "cell_type": "code",
   "execution_count": null,
   "id": "2ac58466",
   "metadata": {},
   "outputs": [],
   "source": [
    "help(papers)"
   ]
  },
  {
   "cell_type": "code",
   "execution_count": null,
   "id": "402743e1",
   "metadata": {},
   "outputs": [],
   "source": [
    "from stimupy.papers import modelfest              # papers need to be imported explicitly\n",
    "modelfest_stims = modelfest.gen_all()             # generate modelfest stimuli"
   ]
  },
  {
   "cell_type": "code",
   "execution_count": null,
   "id": "9a2ee342",
   "metadata": {},
   "outputs": [],
   "source": [
    "utils.plot_stimuli(modelfest_stims, units=\"deg\")  # plot modelfest stimuli with utils (deg or pix)"
   ]
  },
  {
   "cell_type": "markdown",
   "id": "5ec9d895",
   "metadata": {},
   "source": [
    "### Components\n",
    "There is no objective way to differentiate stimupy's components from its stimuli.\n",
    "In principle, every component could be considered a stimulus.\n",
    "The distinctions we make in stimupy are: firstly, that the components are “atomic” in a sense and hence underlie multiple different stimuli; secondly, most stimuli contain target(s) – a region of special scientific interest –, and come with a target_mask that indicates these targets.\n",
    "\n",
    "A full overview of components and their documentation can be found here: https://stimupy.readthedocs.io/en/latest/reference/_api/stimupy.components.html\n",
    "\n",
    "In the following, we will provide a quick overview of stimupy's components as implemented in `stimupy.components.plot_overview()`"
   ]
  },
  {
   "cell_type": "code",
   "execution_count": null,
   "id": "14787a2a",
   "metadata": {},
   "outputs": [],
   "source": [
    "help(components)"
   ]
  },
  {
   "cell_type": "code",
   "execution_count": null,
   "id": "a56f034a",
   "metadata": {},
   "outputs": [],
   "source": [
    "components.plot_overview()"
   ]
  },
  {
   "cell_type": "markdown",
   "id": "53111d4d",
   "metadata": {},
   "source": [
    "### Stimuli\n",
    "\n",
    "A full overview of stimuli and their documentation can be found here: https://stimupy.readthedocs.io/en/latest/reference/_api/stimupy.stimuli.html\n",
    "\n",
    "In the following, we will provide a quick overview of stimupy's stimuli as implemented in `stimupy.stimuli.plot_overview()`"
   ]
  },
  {
   "cell_type": "code",
   "execution_count": null,
   "id": "b0826fbc",
   "metadata": {},
   "outputs": [],
   "source": [
    "help(stimuli)"
   ]
  },
  {
   "cell_type": "code",
   "execution_count": null,
   "id": "8e150549",
   "metadata": {
    "scrolled": false
   },
   "outputs": [],
   "source": [
    "stimuli.plot_overview()"
   ]
  },
  {
   "cell_type": "markdown",
   "id": "93803ecb",
   "metadata": {},
   "source": [
    "## Noises\n",
    "\n",
    "stimupy also provides the most commonly used noise textures. A full overiew with documentation can be found here: https://stimupy.readthedocs.io/en/latest/reference/_api/stimupy.noises.html"
   ]
  },
  {
   "cell_type": "code",
   "execution_count": null,
   "id": "2a5cc996",
   "metadata": {},
   "outputs": [],
   "source": [
    "help(noises)"
   ]
  },
  {
   "cell_type": "code",
   "execution_count": null,
   "id": "43295ce3",
   "metadata": {},
   "outputs": [],
   "source": [
    "noises.plot_overview()"
   ]
  },
  {
   "cell_type": "markdown",
   "id": "980cad1c",
   "metadata": {},
   "source": [
    "### Utility functions\n",
    "stimupy contains a large number of utility functions which can be used to manipulate (e.g. pad, adapt contrasts, filter, mask), plot, and/or export the stimulus arrays that it can generate.\n",
    "All of these functions are listed and documented extensively here: https://stimupy.readthedocs.io/en/latest/reference/_api/stimupy.utils.html\n",
    "\n",
    "In the following tutorial, we will mostly use the plotting utilities of stimupy."
   ]
  },
  {
   "cell_type": "code",
   "execution_count": null,
   "id": "ea3754ab",
   "metadata": {},
   "outputs": [],
   "source": [
    "help(utils)"
   ]
  },
  {
   "cell_type": "markdown",
   "id": "2b01fbce",
   "metadata": {},
   "source": [
    "# How does stimupy work?"
   ]
  },
  {
   "cell_type": "code",
   "execution_count": null,
   "id": "e3a8e3ef",
   "metadata": {},
   "outputs": [],
   "source": [
    "warnings.filterwarnings('always') # Turn on warnings again for useful information"
   ]
  },
  {
   "cell_type": "markdown",
   "id": "bef7f756",
   "metadata": {},
   "source": [
    "## Generating a stimulus\n",
    "\n",
    "### Question: what should be the input arguments?\n",
    "\n",
    "### stimupy's documentation"
   ]
  },
  {
   "cell_type": "code",
   "execution_count": null,
   "id": "6426cbdb",
   "metadata": {},
   "outputs": [],
   "source": [
    "help(stimuli.whites.white)"
   ]
  },
  {
   "cell_type": "markdown",
   "id": "c009be00",
   "metadata": {},
   "source": [
    "### Generating a stimulus"
   ]
  },
  {
   "cell_type": "code",
   "execution_count": null,
   "id": "cadb7df9",
   "metadata": {},
   "outputs": [],
   "source": [
    "# Create stimulus\n",
    "white = stimuli.whites.white(\n",
    "    visual_size=5.,\n",
    "    ppd=32,\n",
    "    n_bars=10,\n",
    "    target_indices=(3, -2),\n",
    "    target_heights=1.,\n",
    ")\n",
    "\n",
    "# Plot stimulus\n",
    "utils.plot_stim(white, units=\"deg\")"
   ]
  },
  {
   "cell_type": "markdown",
   "id": "2e022ba1",
   "metadata": {},
   "source": [
    "## The output dictionary\n",
    "\n",
    "There are two important things to highlight regarding stimupy's outputs:\n",
    "1. stimupy-functions return a `dict`. These dictionaries contain the stimulus array (`\"img\"`), information about the stimulus as well as a number of masks that we will explore later. One of the advantages of using dictionaries is that we can add as much additional information as we need.\n",
    "For the paper-stimuli that we have seen previously, this can also be e.g. experimental data.\n",
    "2. The stimulus is provided as an array (`\"img\"`). This allows the user to use any standard array-manipulation tooling to further process / maniupulate the stimulus.\n"
   ]
  },
  {
   "cell_type": "code",
   "execution_count": null,
   "id": "ad23b19c",
   "metadata": {},
   "outputs": [],
   "source": [
    "print(\"Type:\", type(white))\n",
    "print()\n",
    "print(\"Keys:\", white.keys())"
   ]
  },
  {
   "cell_type": "markdown",
   "id": "34543cdb",
   "metadata": {},
   "source": [
    "### Filling in the blanks\n",
    "\n",
    "One important feature to highlight: stimupy filled in all of the blanks, i.e. all of the parameters that we did not specify but which can be inferred.\n",
    "\n",
    "In `stimupy.stimuli.whites.white`, we passed a `visual_size`, a `ppd` and `n_bars`, and stimupy inferred the `shape`, `frequency` and `bar_width` of the stimulus."
   ]
  },
  {
   "cell_type": "code",
   "execution_count": null,
   "id": "0c413110",
   "metadata": {},
   "outputs": [],
   "source": [
    "# We will use a utility function in the next step, which strips all outputs from\n",
    "# the dict which are not input arguments to the original function.\n",
    "# This allows stimupy users to easily report the exact input parameters that\n",
    "# reproduce their stimulus.\n",
    "help(utils.strip_dict)"
   ]
  },
  {
   "cell_type": "code",
   "execution_count": null,
   "id": "13717eeb",
   "metadata": {},
   "outputs": [],
   "source": [
    "# Display all stimulus parameters:\n",
    "utils.strip_dict(white, stimuli.whites.white)"
   ]
  },
  {
   "cell_type": "markdown",
   "id": "84ef029d",
   "metadata": {},
   "source": [
    "# Parameterizing stimuli in stimupy\n",
    "\n",
    "## Interactively"
   ]
  },
  {
   "cell_type": "code",
   "execution_count": null,
   "id": "3153620e",
   "metadata": {
    "hide_input": true
   },
   "outputs": [],
   "source": [
    "import ipywidgets as iw\n",
    "from stimupy.utils import plot_stim\n",
    "from stimupy.stimuli.whites import white\n",
    "\n",
    "# Define widgets\n",
    "w_height = iw.IntSlider(value=5, min=1, max=20, description=\"height [deg]\")\n",
    "w_width = iw.IntSlider(value=5, min=1, max=20, description=\"width [deg]\")\n",
    "w_ppd = iw.IntSlider(value=20, min=1, max=40, description=\"ppd\")\n",
    "\n",
    "w_freq = iw.FloatSlider(value=1, min=0, max=2, description=\"frequency [cpd]\")\n",
    "w_rot = iw.FloatSlider(value=0, min=0, max=360, description=\"rotation [deg]\")\n",
    "\n",
    "w_int1 = iw.FloatSlider(value=1, min=0, max=1, description=\"int1\")\n",
    "w_int2 = iw.FloatSlider(value=0, min=0, max=1, description=\"int2\")\n",
    "\n",
    "w_tidx = iw.IntSlider(value=3, min=0, max=20, description=\"target idx\")\n",
    "w_tint = iw.FloatSlider(value=0.5, min=0, max=1, description=\"target int\")\n",
    "w_theights = iw.FloatSlider(value=1, min=0, max=5, description=\"target heights [deg]\")\n",
    "\n",
    "w_tidx2 = iw.IntSlider(value=-2, min=-20, max=0, description=\"target2 idx\")\n",
    "w_tint2 = iw.FloatSlider(value=0.5, min=0, max=1, description=\"target2 int\")\n",
    "w_theights2 = iw.FloatSlider(value=1, min=0, max=5, description=\"target2 heights [deg]\")\n",
    "\n",
    "w_ori = iw.Dropdown(value=\"corner\", options=['mean', 'corner', 'center'], description=\"origin\")\n",
    "w_period = iw.Dropdown(value=\"ignore\", options=['ignore', 'even', 'odd', 'either'], description=\"period\")\n",
    "w_mask = iw.ToggleButton(value=False, disabled=False, description=\"add mask\")\n",
    "\n",
    "# Layout\n",
    "b_im_size = iw.HBox([w_height, w_width, w_ppd])\n",
    "b_geometry = iw.HBox([w_freq, w_rot])\n",
    "b_intensities = iw.HBox([w_int1, w_int2])\n",
    "b_target = iw.HBox([w_tidx, w_tint, w_theights])\n",
    "b_target2 = iw.HBox([w_tidx2, w_tint2, w_theights2])\n",
    "b_add = iw.HBox([w_ori, w_period, w_mask])\n",
    "ui = iw.VBox([b_im_size, b_geometry, b_intensities, b_target, b_target2, b_add])\n",
    "\n",
    "# Function for showing stim\n",
    "def show_white(\n",
    "    height=None,\n",
    "    width=None,\n",
    "    ppd=None,\n",
    "    rotation=None,\n",
    "    frequency=None,\n",
    "    sigma=None,\n",
    "    int1=None,\n",
    "    int2=None,\n",
    "    origin=None,\n",
    "    period=None,\n",
    "    add_mask=False,\n",
    "    target_idx=None,\n",
    "    intensity_target=None,\n",
    "    target_idx2=None,\n",
    "    intensity_target2=None,\n",
    "    target_heights=None,\n",
    "    target_heights2=None,\n",
    "):\n",
    "    try:\n",
    "        stim = white(\n",
    "            visual_size=(height, width),\n",
    "            ppd=ppd,\n",
    "            rotation=rotation,\n",
    "            frequency=frequency,\n",
    "            intensity_bars=(int1, int2),\n",
    "            origin=origin,\n",
    "            period=period,\n",
    "            target_indices=(target_idx, target_idx2),\n",
    "            intensity_target=(intensity_target, intensity_target2),\n",
    "            target_heights=(target_heights, target_heights2),\n",
    "        )\n",
    "        plot_stim(stim, mask=add_mask)\n",
    "    except Exception as e:\n",
    "        raise ValueError(f\"Invalid parameter combination: {e}\") from None\n",
    "\n",
    "# Set interactivity\n",
    "out = iw.interactive_output(\n",
    "    show_white,\n",
    "    {\n",
    "        \"height\": w_height,\n",
    "        \"width\": w_width,\n",
    "        \"ppd\": w_ppd,\n",
    "        \"rotation\": w_rot,\n",
    "        \"frequency\": w_freq,\n",
    "        \"int1\": w_int1,\n",
    "        \"int2\": w_int2,\n",
    "        \"origin\": w_ori,\n",
    "        \"period\": w_period,\n",
    "        \"add_mask\": w_mask,\n",
    "        \"target_idx\": w_tidx,\n",
    "        \"intensity_target\": w_tint,\n",
    "        \"target_heights\": w_theights,\n",
    "        \"target_idx2\": w_tidx2,\n",
    "        \"intensity_target2\": w_tint2,\n",
    "        \"target_heights2\": w_theights2,\n",
    "    },\n",
    ")\n",
    "\n",
    "# Show\n",
    "display(ui, out)"
   ]
  },
  {
   "cell_type": "markdown",
   "id": "a286f47e",
   "metadata": {},
   "source": [
    "## Manually (same as above example)"
   ]
  },
  {
   "cell_type": "code",
   "execution_count": null,
   "id": "b2ce2889",
   "metadata": {},
   "outputs": [],
   "source": [
    "# Define parameters manually\n",
    "whiteParams = {\n",
    "    \"visual_size\": 5.,\n",
    "    \"ppd\": 32,\n",
    "    \"n_bars\": 10,\n",
    "    \"target_indices\": (3, -2),\n",
    "    \"target_heights\": 1.,\n",
    "}\n",
    "\n",
    "white = stimuli.whites.white(**whiteParams)   # Create stimulus\n",
    "utils.plot_stim(white, units=\"deg\")           # Plot stimulus"
   ]
  },
  {
   "cell_type": "markdown",
   "id": "4ba76352",
   "metadata": {},
   "source": [
    "## Stimulus parameter spaces (stim-spaces)\n",
    "\n",
    "Stimspace example with white stimulus"
   ]
  },
  {
   "cell_type": "code",
   "execution_count": null,
   "id": "54f3be26",
   "metadata": {},
   "outputs": [],
   "source": [
    "# Provide code with a parameter space"
   ]
  },
  {
   "cell_type": "markdown",
   "id": "2bf7caed",
   "metadata": {},
   "source": [
    "# Composing stimuli with stimupy"
   ]
  },
  {
   "cell_type": "markdown",
   "id": "d33ddf21",
   "metadata": {},
   "source": [
    "## Obsession with masks\n",
    "\n",
    "One aspect that we have not discussed yet, are the `mask`-keys that stimupy's output `dict` contain.\n",
    "\n",
    "Just like the `\"img\"`, a stimulus `\"mask\"` is a numpy.ndarray. \n",
    "Each entry of the `\"mask\"` corresponds to a pixel in the stimulus array (i.e., it has the same shape).\n",
    "\n",
    "Importantly, the `\"mask\"` contains only integer-values which correspond to a geometric region of interest.\n",
    "In our case, we have a `\"target_mask\"` and a `\"bar_mask\"`.\n",
    "We can see that the masks allow us to specifically interact with the corresponding regions of interest.\n",
    "This is particularly useful for computational modeling or for stimulus composition.\n",
    "\n",
    "Find more information on stimulus composition with stimupy here: https://stimupy.readthedocs.io/en/latest/getting_started/composition.html"
   ]
  },
  {
   "cell_type": "code",
   "execution_count": null,
   "id": "63a521bb",
   "metadata": {},
   "outputs": [],
   "source": [
    "utils.plot_stim(white, units=\"deg\", mask=\"target_mask\") # Plot stimulus with target mask\n",
    "utils.plot_stim(white, units=\"deg\", mask=\"bar_mask\")    # Plot stimulus with bar mask"
   ]
  },
  {
   "cell_type": "markdown",
   "id": "c837f998",
   "metadata": {},
   "source": [
    "## Demo: adding a noise texture\n",
    "\n",
    "To demonstrate the utility of masks, we will use the `\"bar_mask\"` to add a noise texture on all black bars of White's stimulus."
   ]
  },
  {
   "cell_type": "code",
   "execution_count": null,
   "id": "60614f4a",
   "metadata": {},
   "outputs": [],
   "source": [
    "# Create pink noise\n",
    "pinkNoise = noises.naturals.pink(\n",
    "    visual_size=white[\"visual_size\"],\n",
    "    ppd=white[\"ppd\"],\n",
    "    intensity_range=(-.5, .5)\n",
    ")\n",
    "\n",
    "# Plot stimuli\n",
    "utils.plot_stim(pinkNoise, vmin=-.5, vmax=.5)"
   ]
  },
  {
   "cell_type": "code",
   "execution_count": null,
   "id": "5dfca5dc",
   "metadata": {},
   "outputs": [],
   "source": [
    "import numpy as np\n",
    "\n",
    "# Use masks to add noise to black bars only - leave out target\n",
    "noisyImg = np.where(\n",
    "    ((white[\"bar_mask\"]%2==0) * (white[\"target_mask\"]==0)),\n",
    "    white[\"img\"]+pinkNoise[\"img\"],\n",
    "    white[\"img\"]\n",
    ")\n",
    "\n",
    "# Create stimulus dictionary with all information\n",
    "noisyWhite = {**white, **pinkNoise}\n",
    "noisyWhite[\"img\"] = noisyImg\n",
    "print(noisyWhite.keys())"
   ]
  },
  {
   "cell_type": "code",
   "execution_count": null,
   "id": "dd4b3127",
   "metadata": {
    "scrolled": true
   },
   "outputs": [],
   "source": [
    "utils.plot_stimuli({\"white\": white, \"noisyWhite\": noisyWhite}, vmin=-.5, vmax=1.5)"
   ]
  },
  {
   "cell_type": "markdown",
   "id": "b5ed0847",
   "metadata": {},
   "source": [
    "# Playground\n",
    "\n",
    "We introduced you to the principles of stimupy.\n",
    "Now, it's your turn.\n",
    "Feel free to explore the many stimuli you can use with stimupy and personalize it.\n",
    "\n",
    "Use the above introduced functions to guide your stimulus creation or ask us:\n",
    "- `help(function)` to see documentation of function\n",
    "- documentation of each function: https://stimupy.readthedocs.io/en/latest/reference/_api/stimupy.stimuli.html\n",
    "- demos for each function: https://stimupy.readthedocs.io/en/latest/reference/demos.html\n",
    "- overviews at the top of this notebook for inspiration"
   ]
  },
  {
   "cell_type": "code",
   "execution_count": null,
   "id": "33cd3abc",
   "metadata": {},
   "outputs": [],
   "source": [
    "# Print \"stimulus\" modules contained in stimupy\n",
    "help(stimuli)"
   ]
  },
  {
   "cell_type": "code",
   "execution_count": null,
   "id": "58de9bd5",
   "metadata": {},
   "outputs": [],
   "source": [
    "# Print functions of example stimulus module (here: simultaneous brightness contrast)\n",
    "help(stimuli.sbcs)"
   ]
  },
  {
   "cell_type": "code",
   "execution_count": null,
   "id": "199f325b",
   "metadata": {},
   "outputs": [],
   "source": []
  }
 ],
 "metadata": {
  "kernelspec": {
   "display_name": "Python 3 (ipykernel)",
   "language": "python",
   "name": "python3"
  },
  "language_info": {
   "codemirror_mode": {
    "name": "ipython",
    "version": 3
   },
   "file_extension": ".py",
   "mimetype": "text/x-python",
   "name": "python",
   "nbconvert_exporter": "python",
   "pygments_lexer": "ipython3",
   "version": "3.11.9"
  },
  "toc": {
   "base_numbering": 1,
   "nav_menu": {},
   "number_sections": true,
   "sideBar": true,
   "skip_h1_title": false,
   "title_cell": "Table of Contents",
   "title_sidebar": "Contents",
   "toc_cell": false,
   "toc_position": {},
   "toc_section_display": true,
   "toc_window_display": false
  },
  "varInspector": {
   "cols": {
    "lenName": 16,
    "lenType": 16,
    "lenVar": 40
   },
   "kernels_config": {
    "python": {
     "delete_cmd_postfix": "",
     "delete_cmd_prefix": "del ",
     "library": "var_list.py",
     "varRefreshCmd": "print(var_dic_list())"
    },
    "r": {
     "delete_cmd_postfix": ") ",
     "delete_cmd_prefix": "rm(",
     "library": "var_list.r",
     "varRefreshCmd": "cat(var_dic_list()) "
    }
   },
   "types_to_exclude": [
    "module",
    "function",
    "builtin_function_or_method",
    "instance",
    "_Feature"
   ],
   "window_display": false
  }
 },
 "nbformat": 4,
 "nbformat_minor": 5
}
